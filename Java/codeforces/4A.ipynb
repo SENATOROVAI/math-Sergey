{
 "cells": [
  {
   "cell_type": "code",
   "execution_count": null,
   "metadata": {},
   "outputs": [],
   "source": [
    "import java.util.*;\n",
    "public class Watermelon\n",
    "{\n",
    "    public static void main(String[] args)\n",
    "    {\n",
    "        Scanner sc = new Scanner(System.in);\n",
    "        int w = sc.nextInt();\n",
    "        if(w % 2 == 0 && w > 2) \n",
    "        {\n",
    "            System.out.println(\"YES\");\n",
    "        } \n",
    "        else \n",
    "        {\n",
    "            System.out.println(\"NO\");\n",
    "        }\n",
    "    }\n",
    "}"
   ]
  }
 ],
 "metadata": {
  "kernelspec": {
   "display_name": "Python 3",
   "language": "python",
   "name": "python3"
  },
  "language_info": {
   "name": "python",
   "version": "3.12.0"
  }
 },
 "nbformat": 4,
 "nbformat_minor": 2
}
