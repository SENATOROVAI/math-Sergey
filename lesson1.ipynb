{
 "cells": [
  {
   "cell_type": "markdown",
   "metadata": {},
   "source": [
    "algorithm push homework\n",
    "1. edit/add file \n",
    "2. add requirement title for the commit\n",
    "3. click the button commit\n",
    "4. push \n",
    "to accept hw press pull"
   ]
  }
 ],
 "metadata": {
  "language_info": {
   "name": "python"
  }
 },
 "nbformat": 4,
 "nbformat_minor": 2
}
