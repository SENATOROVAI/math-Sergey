{
 "cells": [
  {
   "cell_type": "markdown",
   "metadata": {},
   "source": [
    "05.04\n",
    "1. изучали гит\n",
    "2. повторяли темы (отображение, диаграммы Венна)\n",
    "3. осваивал приложения и сайты, такие как Visual Studio, GitHub\n",
    "4. ознакомился с порядком проведения занятий\n"
   ]
  }
 ],
 "metadata": {
  "language_info": {
   "name": "python"
  }
 },
 "nbformat": 4,
 "nbformat_minor": 2
}
